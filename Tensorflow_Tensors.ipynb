{
  "nbformat": 4,
  "nbformat_minor": 0,
  "metadata": {
    "colab": {
      "provenance": [],
      "gpuType": "T4",
      "authorship_tag": "ABX9TyN7pCOdKNZ1cB9oNB9oes8B",
      "include_colab_link": true
    },
    "kernelspec": {
      "name": "python3",
      "display_name": "Python 3"
    },
    "language_info": {
      "name": "python"
    },
    "accelerator": "GPU"
  },
  "cells": [
    {
      "cell_type": "markdown",
      "metadata": {
        "id": "view-in-github",
        "colab_type": "text"
      },
      "source": [
        "<a href=\"https://colab.research.google.com/github/Adhoc123/Deep-Learning-for-Computer-Vision/blob/main/Tensorflow_Tensors.ipynb\" target=\"_parent\"><img src=\"https://colab.research.google.com/assets/colab-badge.svg\" alt=\"Open In Colab\"/></a>"
      ]
    },
    {
      "cell_type": "code",
      "execution_count": null,
      "metadata": {
        "colab": {
          "base_uri": "https://localhost:8080/",
          "height": 34
        },
        "id": "sT6AU_qKD1Uf",
        "outputId": "f4724c51-a1fc-4da4-a58b-465b36b59d7b"
      },
      "outputs": [
        {
          "output_type": "display_data",
          "data": {
            "application/javascript": [
              "IPython.notebook.set_autosave_interval(60000)"
            ]
          },
          "metadata": {}
        },
        {
          "output_type": "stream",
          "name": "stdout",
          "text": [
            "Autosaving every 60 seconds\n"
          ]
        }
      ],
      "source": [
        "%autosave 60"
      ]
    },
    {
      "cell_type": "code",
      "source": [
        "import tensorflow as tf"
      ],
      "metadata": {
        "id": "ZiZjPSNFGVg8"
      },
      "execution_count": null,
      "outputs": []
    },
    {
      "cell_type": "code",
      "source": [
        "tensor_zero_d = tf.constant(4)\n",
        "print(tensor_zero_d)"
      ],
      "metadata": {
        "colab": {
          "base_uri": "https://localhost:8080/"
        },
        "id": "jJ_JAIXOGNCE",
        "outputId": "64c38e8c-f568-4263-8491-7ac3dbb59b8a"
      },
      "execution_count": null,
      "outputs": [
        {
          "output_type": "stream",
          "name": "stdout",
          "text": [
            "tf.Tensor(4, shape=(), dtype=int32)\n"
          ]
        }
      ]
    },
    {
      "cell_type": "code",
      "source": [
        "tensor_one_d = tf.constant([2,0,-3,4,0.2])\n",
        "print(tensor_one_d)"
      ],
      "metadata": {
        "colab": {
          "base_uri": "https://localhost:8080/"
        },
        "id": "tS0Mz-2VGUzk",
        "outputId": "7e8c2298-c16a-4bc5-cd85-f997292cef54"
      },
      "execution_count": null,
      "outputs": [
        {
          "output_type": "stream",
          "name": "stdout",
          "text": [
            "tf.Tensor([ 2.   0.  -3.   4.   0.2], shape=(5,), dtype=float32)\n"
          ]
        }
      ]
    },
    {
      "cell_type": "code",
      "source": [
        "tensor_two_d = tf.constant([\n",
        "    [3,4,-4],\n",
        "    [1,2,6],\n",
        "    [0,3,1],\n",
        "    [6,5,2]\n",
        "])\n",
        "print(tensor_two_d)"
      ],
      "metadata": {
        "id": "KLcSfZcDFZg3",
        "colab": {
          "base_uri": "https://localhost:8080/"
        },
        "outputId": "17d10731-f67f-4ffa-8a85-18580d614255"
      },
      "execution_count": null,
      "outputs": [
        {
          "output_type": "stream",
          "name": "stdout",
          "text": [
            "tf.Tensor(\n",
            "[[ 3  4 -4]\n",
            " [ 1  2  6]\n",
            " [ 0  3  1]\n",
            " [ 6  5  2]], shape=(4, 3), dtype=int32)\n"
          ]
        }
      ]
    },
    {
      "cell_type": "code",
      "source": [
        "tensor_three_d = tf.constant([\n",
        "  [[3,4,2],\n",
        "  [3,3,2]],\n",
        "  [[32,3,4],\n",
        "  [0,9,2]],\n",
        "  [[4,3,1],\n",
        "  [-2,-2,9]]\n",
        "])\n",
        "print(tensor_three_d)"
      ],
      "metadata": {
        "colab": {
          "base_uri": "https://localhost:8080/"
        },
        "id": "IqAkpqQPSxwU",
        "outputId": "2f702175-f056-46f2-acc2-8369e67e6097"
      },
      "execution_count": null,
      "outputs": [
        {
          "output_type": "stream",
          "name": "stdout",
          "text": [
            "tf.Tensor(\n",
            "[[[ 3  4  2]\n",
            "  [ 3  3  2]]\n",
            "\n",
            " [[32  3  4]\n",
            "  [ 0  9  2]]\n",
            "\n",
            " [[ 4  3  1]\n",
            "  [-2 -2  9]]], shape=(3, 2, 3), dtype=int32)\n"
          ]
        }
      ]
    }
  ]
}
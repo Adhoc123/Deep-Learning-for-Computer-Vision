{
  "nbformat": 4,
  "nbformat_minor": 0,
  "metadata": {
    "colab": {
      "provenance": [],
      "gpuType": "T4",
      "authorship_tag": "ABX9TyMuCfIWIFQBrKQg4IIyXKAr",
      "include_colab_link": true
    },
    "kernelspec": {
      "name": "python3",
      "display_name": "Python 3"
    },
    "language_info": {
      "name": "python"
    },
    "accelerator": "GPU"
  },
  "cells": [
    {
      "cell_type": "markdown",
      "metadata": {
        "id": "view-in-github",
        "colab_type": "text"
      },
      "source": [
        "<a href=\"https://colab.research.google.com/github/Adhoc123/Deep-Learning-for-Computer-Vision/blob/main/Tensorflow_Tensors.ipynb\" target=\"_parent\"><img src=\"https://colab.research.google.com/assets/colab-badge.svg\" alt=\"Open In Colab\"/></a>"
      ]
    },
    {
      "cell_type": "code",
      "execution_count": null,
      "metadata": {
        "colab": {
          "base_uri": "https://localhost:8080/",
          "height": 34
        },
        "id": "sT6AU_qKD1Uf",
        "outputId": "f4724c51-a1fc-4da4-a58b-465b36b59d7b"
      },
      "outputs": [
        {
          "output_type": "display_data",
          "data": {
            "application/javascript": [
              "IPython.notebook.set_autosave_interval(60000)"
            ]
          },
          "metadata": {}
        },
        {
          "output_type": "stream",
          "name": "stdout",
          "text": [
            "Autosaving every 60 seconds\n"
          ]
        }
      ],
      "source": [
        "%autosave 60"
      ]
    },
    {
      "cell_type": "code",
      "source": [
        "import tensorflow as tf\n",
        "import numpy as np\n"
      ],
      "metadata": {
        "id": "ZiZjPSNFGVg8"
      },
      "execution_count": null,
      "outputs": []
    },
    {
      "cell_type": "code",
      "source": [
        "tensor_bool = tf.constant([True, True, False])\n",
        "print(tensor_bool)"
      ],
      "metadata": {
        "colab": {
          "base_uri": "https://localhost:8080/"
        },
        "id": "O9kmsll7Zlfq",
        "outputId": "74ffd1c3-6173-440b-feeb-aa18d14ca32f"
      },
      "execution_count": null,
      "outputs": [
        {
          "output_type": "stream",
          "name": "stdout",
          "text": [
            "tf.Tensor([ True  True False], shape=(3,), dtype=bool)\n"
          ]
        }
      ]
    },
    {
      "cell_type": "code",
      "source": [
        "tensor_string = tf.constant(['hey','self','lion'])\n",
        "print(tensor_string)"
      ],
      "metadata": {
        "colab": {
          "base_uri": "https://localhost:8080/"
        },
        "id": "TzpqIuNpaTTK",
        "outputId": "6ef4aa48-25be-4df3-ad32-ec0de3809dff"
      },
      "execution_count": null,
      "outputs": [
        {
          "output_type": "stream",
          "name": "stdout",
          "text": [
            "tf.Tensor([b'hey' b'self' b'lion'], shape=(3,), dtype=string)\n"
          ]
        }
      ]
    },
    {
      "cell_type": "code",
      "source": [
        "tensor_zero_d = tf.constant(4)\n",
        "print(tensor_zero_d)"
      ],
      "metadata": {
        "colab": {
          "base_uri": "https://localhost:8080/"
        },
        "id": "jJ_JAIXOGNCE",
        "outputId": "64c38e8c-f568-4263-8491-7ac3dbb59b8a"
      },
      "execution_count": null,
      "outputs": [
        {
          "output_type": "stream",
          "name": "stdout",
          "text": [
            "tf.Tensor(4, shape=(), dtype=int32)\n"
          ]
        }
      ]
    },
    {
      "cell_type": "code",
      "source": [
        "tensor_one_d = tf.constant([2,0,-3,4,42], dtype=tf.float32)\n",
        "casted_tensor_one_d = tf.cast(tensor_one_d, dtype=tf.bool)\n",
        "print(tensor_one_d)\n",
        "print(casted_tensor_one_d)"
      ],
      "metadata": {
        "colab": {
          "base_uri": "https://localhost:8080/"
        },
        "id": "tS0Mz-2VGUzk",
        "outputId": "91922c50-93b1-46c3-c10c-912c5da6dc1a"
      },
      "execution_count": null,
      "outputs": [
        {
          "output_type": "stream",
          "name": "stdout",
          "text": [
            "tf.Tensor([ 2.  0. -3.  4. 42.], shape=(5,), dtype=float32)\n",
            "tf.Tensor([ True False  True  True  True], shape=(5,), dtype=bool)\n"
          ]
        }
      ]
    },
    {
      "cell_type": "code",
      "source": [
        "tensor_two_d = tf.constant([\n",
        "    [3,4,-4],\n",
        "    [1,2,6],\n",
        "    [0,3,1],\n",
        "    [6,5,2]\n",
        "])\n",
        "print(tensor_two_d)"
      ],
      "metadata": {
        "id": "KLcSfZcDFZg3",
        "colab": {
          "base_uri": "https://localhost:8080/"
        },
        "outputId": "17d10731-f67f-4ffa-8a85-18580d614255"
      },
      "execution_count": null,
      "outputs": [
        {
          "output_type": "stream",
          "name": "stdout",
          "text": [
            "tf.Tensor(\n",
            "[[ 3  4 -4]\n",
            " [ 1  2  6]\n",
            " [ 0  3  1]\n",
            " [ 6  5  2]], shape=(4, 3), dtype=int32)\n"
          ]
        }
      ]
    },
    {
      "cell_type": "code",
      "source": [
        "tensor_three_d = tf.constant([\n",
        "  [[3,4,2],\n",
        "  [3,3,2]],\n",
        "  [[32,3,4],\n",
        "  [0,9,2]],\n",
        "  [[4,3,1],\n",
        "  [-2,-2,9]]\n",
        "])\n",
        "print(tensor_three_d)"
      ],
      "metadata": {
        "colab": {
          "base_uri": "https://localhost:8080/"
        },
        "id": "IqAkpqQPSxwU",
        "outputId": "2f702175-f056-46f2-acc2-8369e67e6097"
      },
      "execution_count": null,
      "outputs": [
        {
          "output_type": "stream",
          "name": "stdout",
          "text": [
            "tf.Tensor(\n",
            "[[[ 3  4  2]\n",
            "  [ 3  3  2]]\n",
            "\n",
            " [[32  3  4]\n",
            "  [ 0  9  2]]\n",
            "\n",
            " [[ 4  3  1]\n",
            "  [-2 -2  9]]], shape=(3, 2, 3), dtype=int32)\n"
          ]
        }
      ]
    },
    {
      "cell_type": "code",
      "source": [],
      "metadata": {
        "id": "P9jgvmuZw4rP"
      },
      "execution_count": null,
      "outputs": []
    },
    {
      "cell_type": "code",
      "source": [
        "print(tensor_zero_d.ndim)\n",
        "print(tensor_one_d.ndim)\n",
        "print(tensor_two_d.ndim)\n",
        "print(tensor_three_d.ndim)"
      ],
      "metadata": {
        "colab": {
          "base_uri": "https://localhost:8080/"
        },
        "id": "6pjl0-vrVwTL",
        "outputId": "ac680fe0-c27b-4d03-f711-a9725b69ee39"
      },
      "execution_count": null,
      "outputs": [
        {
          "output_type": "stream",
          "name": "stdout",
          "text": [
            "0\n",
            "1\n",
            "2\n",
            "3\n"
          ]
        }
      ]
    },
    {
      "cell_type": "code",
      "source": [
        "tensor_four_d = tf.constant([\n",
        "[\n",
        "  [[3,4,2],\n",
        "  [3,3,2]]\n",
        "],\n",
        "[\n",
        "  [[3,4,2],\n",
        "  [3,3,2]]\n",
        "\n",
        "]\n",
        "])\n",
        "\n",
        "print(tensor_four_d)"
      ],
      "metadata": {
        "colab": {
          "base_uri": "https://localhost:8080/"
        },
        "id": "NF2pxaKUV8uD",
        "outputId": "bc3ec858-5815-401f-8706-85c7c675ca64"
      },
      "execution_count": null,
      "outputs": [
        {
          "output_type": "stream",
          "name": "stdout",
          "text": [
            "tf.Tensor(\n",
            "[[[[3 4 2]\n",
            "   [3 3 2]]]\n",
            "\n",
            "\n",
            " [[[3 4 2]\n",
            "   [3 3 2]]]], shape=(2, 1, 2, 3), dtype=int32)\n"
          ]
        }
      ]
    },
    {
      "cell_type": "code",
      "source": [
        "print(tensor_four_d.ndim)"
      ],
      "metadata": {
        "colab": {
          "base_uri": "https://localhost:8080/"
        },
        "id": "WU3xcsPkXCbk",
        "outputId": "e5593d6d-9456-4570-c362-c7b2c7b34e7e"
      },
      "execution_count": null,
      "outputs": [
        {
          "output_type": "stream",
          "name": "stdout",
          "text": [
            "4\n"
          ]
        }
      ]
    },
    {
      "cell_type": "code",
      "source": [
        "np_array = np.array([1,2,4])\n",
        "print(np_array)"
      ],
      "metadata": {
        "colab": {
          "base_uri": "https://localhost:8080/"
        },
        "id": "UrhHLosBcAAB",
        "outputId": "ce9bbd99-a34d-4d29-9a75-ea138eea5e63"
      },
      "execution_count": null,
      "outputs": [
        {
          "output_type": "stream",
          "name": "stdout",
          "text": [
            "[1 2 4]\n"
          ]
        }
      ]
    },
    {
      "cell_type": "code",
      "source": [
        "converted_tensor = tf.convert_to_tensor(np_array)\n",
        "print(converted_tensor)"
      ],
      "metadata": {
        "colab": {
          "base_uri": "https://localhost:8080/"
        },
        "id": "pHJiR-mzccFv",
        "outputId": "1e287b03-0b83-47b1-a3d3-9ed04476f18f"
      },
      "execution_count": null,
      "outputs": [
        {
          "output_type": "stream",
          "name": "stdout",
          "text": [
            "tf.Tensor([1 2 4], shape=(3,), dtype=int64)\n"
          ]
        }
      ]
    },
    {
      "cell_type": "code",
      "source": [
        "eye_tensor = tf.eye(\n",
        "    num_rows=5,\n",
        "    num_columns=5,\n",
        "    batch_shape=[3,4],\n",
        "    dtype=tf.dtypes.bool,\n",
        "    name=None\n",
        ")"
      ],
      "metadata": {
        "id": "UWbkEAYsdOAw"
      },
      "execution_count": null,
      "outputs": []
    },
    {
      "cell_type": "code",
      "source": [
        "eye_tensor"
      ],
      "metadata": {
        "colab": {
          "base_uri": "https://localhost:8080/"
        },
        "id": "2hnn_8lrdyip",
        "outputId": "4c401f9e-f123-4737-e3d4-d06fa7f692b7"
      },
      "execution_count": null,
      "outputs": [
        {
          "output_type": "execute_result",
          "data": {
            "text/plain": [
              "<tf.Tensor: shape=(3, 4, 5, 5), dtype=bool, numpy=\n",
              "array([[[[ True, False, False, False, False],\n",
              "         [False,  True, False, False, False],\n",
              "         [False, False,  True, False, False],\n",
              "         [False, False, False,  True, False],\n",
              "         [False, False, False, False,  True]],\n",
              "\n",
              "        [[ True, False, False, False, False],\n",
              "         [False,  True, False, False, False],\n",
              "         [False, False,  True, False, False],\n",
              "         [False, False, False,  True, False],\n",
              "         [False, False, False, False,  True]],\n",
              "\n",
              "        [[ True, False, False, False, False],\n",
              "         [False,  True, False, False, False],\n",
              "         [False, False,  True, False, False],\n",
              "         [False, False, False,  True, False],\n",
              "         [False, False, False, False,  True]],\n",
              "\n",
              "        [[ True, False, False, False, False],\n",
              "         [False,  True, False, False, False],\n",
              "         [False, False,  True, False, False],\n",
              "         [False, False, False,  True, False],\n",
              "         [False, False, False, False,  True]]],\n",
              "\n",
              "\n",
              "       [[[ True, False, False, False, False],\n",
              "         [False,  True, False, False, False],\n",
              "         [False, False,  True, False, False],\n",
              "         [False, False, False,  True, False],\n",
              "         [False, False, False, False,  True]],\n",
              "\n",
              "        [[ True, False, False, False, False],\n",
              "         [False,  True, False, False, False],\n",
              "         [False, False,  True, False, False],\n",
              "         [False, False, False,  True, False],\n",
              "         [False, False, False, False,  True]],\n",
              "\n",
              "        [[ True, False, False, False, False],\n",
              "         [False,  True, False, False, False],\n",
              "         [False, False,  True, False, False],\n",
              "         [False, False, False,  True, False],\n",
              "         [False, False, False, False,  True]],\n",
              "\n",
              "        [[ True, False, False, False, False],\n",
              "         [False,  True, False, False, False],\n",
              "         [False, False,  True, False, False],\n",
              "         [False, False, False,  True, False],\n",
              "         [False, False, False, False,  True]]],\n",
              "\n",
              "\n",
              "       [[[ True, False, False, False, False],\n",
              "         [False,  True, False, False, False],\n",
              "         [False, False,  True, False, False],\n",
              "         [False, False, False,  True, False],\n",
              "         [False, False, False, False,  True]],\n",
              "\n",
              "        [[ True, False, False, False, False],\n",
              "         [False,  True, False, False, False],\n",
              "         [False, False,  True, False, False],\n",
              "         [False, False, False,  True, False],\n",
              "         [False, False, False, False,  True]],\n",
              "\n",
              "        [[ True, False, False, False, False],\n",
              "         [False,  True, False, False, False],\n",
              "         [False, False,  True, False, False],\n",
              "         [False, False, False,  True, False],\n",
              "         [False, False, False, False,  True]],\n",
              "\n",
              "        [[ True, False, False, False, False],\n",
              "         [False,  True, False, False, False],\n",
              "         [False, False,  True, False, False],\n",
              "         [False, False, False,  True, False],\n",
              "         [False, False, False, False,  True]]]])>"
            ]
          },
          "metadata": {},
          "execution_count": 57
        }
      ]
    },
    {
      "cell_type": "code",
      "source": [
        "fill_tensor = tf.fill(\n",
        "    [1,3,2], 4, name=None, layout=None\n",
        ")\n",
        "print(fill_tensor)"
      ],
      "metadata": {
        "colab": {
          "base_uri": "https://localhost:8080/"
        },
        "id": "gykDrB9qjEgV",
        "outputId": "f690e04f-3905-494e-9cce-47c7b343ce0d"
      },
      "execution_count": null,
      "outputs": [
        {
          "output_type": "stream",
          "name": "stdout",
          "text": [
            "tf.Tensor(\n",
            "[[[4 4]\n",
            "  [4 4]\n",
            "  [4 4]]], shape=(1, 3, 2), dtype=int32)\n"
          ]
        }
      ]
    },
    {
      "cell_type": "code",
      "source": [
        "ones_tensor = tf.ones(\n",
        "    [4,2,3],\n",
        "    dtype=tf.dtypes.int32,\n",
        "    name=None,\n",
        "    layout=None\n",
        "\n",
        ")\n",
        "print(ones_tensor)"
      ],
      "metadata": {
        "colab": {
          "base_uri": "https://localhost:8080/"
        },
        "id": "p2llAtZmjpE9",
        "outputId": "3889952a-1315-4644-aef7-c84760c1bbba"
      },
      "execution_count": null,
      "outputs": [
        {
          "output_type": "stream",
          "name": "stdout",
          "text": [
            "tf.Tensor(\n",
            "[[[1 1 1]\n",
            "  [1 1 1]]\n",
            "\n",
            " [[1 1 1]\n",
            "  [1 1 1]]\n",
            "\n",
            " [[1 1 1]\n",
            "  [1 1 1]]\n",
            "\n",
            " [[1 1 1]\n",
            "  [1 1 1]]], shape=(4, 2, 3), dtype=int32)\n"
          ]
        }
      ]
    },
    {
      "cell_type": "code",
      "source": [
        "ones_like_tensor = tf.ones_like(fill_tensor)\n",
        "print(ones_like_tensor)"
      ],
      "metadata": {
        "colab": {
          "base_uri": "https://localhost:8080/"
        },
        "id": "ubxTq2t9ky3V",
        "outputId": "d1343a73-a622-415c-b452-0d84ca5886ec"
      },
      "execution_count": null,
      "outputs": [
        {
          "output_type": "stream",
          "name": "stdout",
          "text": [
            "tf.Tensor(\n",
            "[[[1 1]\n",
            "  [1 1]\n",
            "  [1 1]]], shape=(1, 3, 2), dtype=int32)\n"
          ]
        }
      ]
    },
    {
      "cell_type": "code",
      "source": [
        "zeros_tensor = tf.zeros(\n",
        "    [4,2,3],\n",
        "    dtype=tf.dtypes.int32,\n",
        "    name=None,\n",
        "    layout=None\n",
        "\n",
        ")\n",
        "print(zeros_tensor)"
      ],
      "metadata": {
        "colab": {
          "base_uri": "https://localhost:8080/"
        },
        "id": "hF-NUgILlN08",
        "outputId": "5237cd5b-f72c-4175-f156-2129fccc4b34"
      },
      "execution_count": null,
      "outputs": [
        {
          "output_type": "stream",
          "name": "stdout",
          "text": [
            "tf.Tensor(\n",
            "[[[0 0 0]\n",
            "  [0 0 0]]\n",
            "\n",
            " [[0 0 0]\n",
            "  [0 0 0]]\n",
            "\n",
            " [[0 0 0]\n",
            "  [0 0 0]]\n",
            "\n",
            " [[0 0 0]\n",
            "  [0 0 0]]], shape=(4, 2, 3), dtype=int32)\n"
          ]
        }
      ]
    },
    {
      "cell_type": "code",
      "source": [
        "tf.shape(eye_tensor)"
      ],
      "metadata": {
        "colab": {
          "base_uri": "https://localhost:8080/"
        },
        "id": "m9IGG65ulkPU",
        "outputId": "fabbe438-3be1-4b80-b9aa-fcb1e3ab971f"
      },
      "execution_count": null,
      "outputs": [
        {
          "output_type": "execute_result",
          "data": {
            "text/plain": [
              "<tf.Tensor: shape=(4,), dtype=int32, numpy=array([3, 4, 5, 5], dtype=int32)>"
            ]
          },
          "metadata": {},
          "execution_count": 71
        }
      ]
    },
    {
      "cell_type": "code",
      "source": [
        "# shape of tensor 't' is [2, 2, 3]\n",
        "t = tf.constant([[1, 1, 1], [2, 2, 2]])\n",
        "tf.rank(t)  # 3"
      ],
      "metadata": {
        "colab": {
          "base_uri": "https://localhost:8080/"
        },
        "id": "fidwn9vll8gN",
        "outputId": "d563292c-2d58-4236-c2b3-34d57906deb8"
      },
      "execution_count": null,
      "outputs": [
        {
          "output_type": "execute_result",
          "data": {
            "text/plain": [
              "<tf.Tensor: shape=(), dtype=int32, numpy=2>"
            ]
          },
          "metadata": {},
          "execution_count": 74
        }
      ]
    },
    {
      "cell_type": "code",
      "source": [
        "t = tf.constant([[1, 1, 1], [2, 2, 2]])\n",
        "tf.size(t, out_type=tf.float32)"
      ],
      "metadata": {
        "colab": {
          "base_uri": "https://localhost:8080/"
        },
        "id": "U3on6EbVmg83",
        "outputId": "e43bd8e1-3010-4c05-bace-66a968a1405c"
      },
      "execution_count": null,
      "outputs": [
        {
          "output_type": "execute_result",
          "data": {
            "text/plain": [
              "<tf.Tensor: shape=(), dtype=float32, numpy=6.0>"
            ]
          },
          "metadata": {},
          "execution_count": 77
        }
      ]
    },
    {
      "cell_type": "code",
      "source": [
        "random_tensor = tf.random.normal(\n",
        "    [3,4],\n",
        "    mean=50.0,\n",
        "    stddev=1.0,\n",
        "    dtype=tf.dtypes.float32,\n",
        "    seed=None,\n",
        "    name=None\n",
        ")\n",
        "print(random_tensor)"
      ],
      "metadata": {
        "colab": {
          "base_uri": "https://localhost:8080/"
        },
        "id": "V-RwYLQnnhXT",
        "outputId": "29fddf58-03d1-4129-9227-b4fd3e211052"
      },
      "execution_count": null,
      "outputs": [
        {
          "output_type": "stream",
          "name": "stdout",
          "text": [
            "tf.Tensor(\n",
            "[[49.89209  51.509872 49.193043 47.722195]\n",
            " [51.16762  51.193386 50.396503 49.704536]\n",
            " [50.87161  50.25228  49.515114 49.678463]], shape=(3, 4), dtype=float32)\n"
          ]
        }
      ]
    },
    {
      "cell_type": "code",
      "source": [
        "random_tensor = tf.random.uniform(\n",
        "    [3,4],\n",
        "    minval=3,\n",
        "    maxval=5,\n",
        "    dtype=tf.dtypes.int32,\n",
        "    seed=None,\n",
        "    name=None\n",
        ")\n",
        "print(random_tensor)"
      ],
      "metadata": {
        "colab": {
          "base_uri": "https://localhost:8080/"
        },
        "id": "YcJaovb6qYJT",
        "outputId": "dec229f9-bd5f-407a-bdba-64260f253323"
      },
      "execution_count": null,
      "outputs": [
        {
          "output_type": "stream",
          "name": "stdout",
          "text": [
            "tf.Tensor(\n",
            "[[4 3 3 4]\n",
            " [4 3 3 4]\n",
            " [3 3 4 4]], shape=(3, 4), dtype=int32)\n"
          ]
        }
      ]
    },
    {
      "cell_type": "code",
      "source": [
        "tf.random.set_seed(5)\n",
        "print(tf.random.uniform(shape=[3,], maxval=3, dtype=tf.int32, seed=10))\n",
        "print(tf.random.uniform(shape=[3,], maxval=3, dtype=tf.int32, seed=10))\n",
        "print(tf.random.uniform(shape=[3,], maxval=3, dtype=tf.int32, seed=10))\n",
        "print(tf.random.uniform(shape=[3,], maxval=3, dtype=tf.int32, seed=10))\n",
        "\n",
        "\n"
      ],
      "metadata": {
        "colab": {
          "base_uri": "https://localhost:8080/"
        },
        "id": "Wexfu6GTsBYQ",
        "outputId": "84f02d6b-7d56-48b9-98e6-19635eb7866c"
      },
      "execution_count": null,
      "outputs": [
        {
          "output_type": "stream",
          "name": "stdout",
          "text": [
            "tf.Tensor([2 0 1], shape=(3,), dtype=int32)\n",
            "tf.Tensor([1 0 0], shape=(3,), dtype=int32)\n",
            "tf.Tensor([0 1 1], shape=(3,), dtype=int32)\n",
            "tf.Tensor([2 1 2], shape=(3,), dtype=int32)\n"
          ]
        }
      ]
    },
    {
      "cell_type": "code",
      "source": [
        "tf.random.set_seed(5)\n",
        "print(tf.random.uniform(shape=[3,], maxval=3, dtype=tf.int32, seed=10))\n",
        "print(tf.random.uniform(shape=[3,], maxval=3, dtype=tf.int32, seed=10))\n",
        "print(tf.random.uniform(shape=[3,], maxval=3, dtype=tf.int32, seed=10))\n",
        "print(tf.random.uniform(shape=[3,], maxval=3, dtype=tf.int32, seed=10))\n"
      ],
      "metadata": {
        "colab": {
          "base_uri": "https://localhost:8080/"
        },
        "id": "Qvar9DHutDY4",
        "outputId": "cf047fd9-d552-4f74-b0c6-d63d5b509add"
      },
      "execution_count": null,
      "outputs": [
        {
          "output_type": "stream",
          "name": "stdout",
          "text": [
            "tf.Tensor([2 0 1], shape=(3,), dtype=int32)\n",
            "tf.Tensor([1 0 0], shape=(3,), dtype=int32)\n",
            "tf.Tensor([0 1 1], shape=(3,), dtype=int32)\n",
            "tf.Tensor([2 1 2], shape=(3,), dtype=int32)\n"
          ]
        }
      ]
    },
    {
      "cell_type": "code",
      "source": [
        "tensor_indexed = tf.constant([3,4,5,3,3,3])\n",
        "print(tensor_indexed[0:4])\n",
        "print(tensor_indexed[:-3])"
      ],
      "metadata": {
        "colab": {
          "base_uri": "https://localhost:8080/"
        },
        "id": "P-0R8erftdU5",
        "outputId": "6d4e0abf-9a91-42ec-c3ce-5f5198ed002a"
      },
      "execution_count": null,
      "outputs": [
        {
          "output_type": "stream",
          "name": "stdout",
          "text": [
            "tf.Tensor([3 4 5 3], shape=(4,), dtype=int32)\n",
            "tf.Tensor([3 4 5], shape=(3,), dtype=int32)\n"
          ]
        }
      ]
    },
    {
      "cell_type": "code",
      "source": [
        "tensor_two_d = tf.constant([\n",
        "    [43,5,3],\n",
        "    [1,2,3],\n",
        "    [3,43,4]\n",
        "])\n",
        "print(tensor_two_d[0:2,:])"
      ],
      "metadata": {
        "colab": {
          "base_uri": "https://localhost:8080/"
        },
        "id": "JqYjBPnzu2YO",
        "outputId": "053e40d8-b2d4-42ad-8df2-46c436d45edb"
      },
      "execution_count": null,
      "outputs": [
        {
          "output_type": "stream",
          "name": "stdout",
          "text": [
            "tf.Tensor(\n",
            "[[43  5  3]\n",
            " [ 1  2  3]], shape=(2, 3), dtype=int32)\n"
          ]
        }
      ]
    },
    {
      "cell_type": "code",
      "source": [
        "tf.range(2,10)"
      ],
      "metadata": {
        "colab": {
          "base_uri": "https://localhost:8080/"
        },
        "id": "fpxp2Vk1uFPp",
        "outputId": "a6010a4d-3cd5-4baf-d889-a9b3eeb77d3f"
      },
      "execution_count": null,
      "outputs": [
        {
          "output_type": "execute_result",
          "data": {
            "text/plain": [
              "<tf.Tensor: shape=(8,), dtype=int32, numpy=array([2, 3, 4, 5, 6, 7, 8, 9], dtype=int32)>"
            ]
          },
          "metadata": {},
          "execution_count": 91
        }
      ]
    },
    {
      "cell_type": "code",
      "source": [
        "tensor_three_d = tf.constant([\n",
        "  [ [3,4,2],[3,3,2] ], [ [32,3,4],[0,9,2] ], [ [4,3,1],[-2,-2,9] ]\n",
        "])\n",
        "print(tensor_three_d[0:2,:2,:1])"
      ],
      "metadata": {
        "colab": {
          "base_uri": "https://localhost:8080/"
        },
        "id": "Jeb3U6ulw6IW",
        "outputId": "71b362e7-b9a9-4925-9d1e-9a8c3ee62389"
      },
      "execution_count": null,
      "outputs": [
        {
          "output_type": "stream",
          "name": "stdout",
          "text": [
            "tf.Tensor(\n",
            "[[[ 3]\n",
            "  [ 3]]\n",
            "\n",
            " [[32]\n",
            "  [ 0]]], shape=(2, 2, 1), dtype=int32)\n"
          ]
        }
      ]
    }
  ]
}